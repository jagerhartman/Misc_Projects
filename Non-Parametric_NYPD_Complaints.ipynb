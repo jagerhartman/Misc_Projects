{
 "cells": [
  {
   "cell_type": "markdown",
   "metadata": {},
   "source": [
    "## Are Certain Traits Unique to Stop and Frisk Allegations?"
   ]
  },
  {
   "cell_type": "code",
   "execution_count": 1,
   "metadata": {
    "collapsed": true
   },
   "outputs": [],
   "source": [
    "import pandas as pd\n",
    "import numpy as np\n",
    "import matplotlib.pyplot as plt\n",
    "import re, os, time, datetime\n",
    "%matplotlib inline"
   ]
  },
  {
   "cell_type": "code",
   "execution_count": 2,
   "metadata": {
    "collapsed": false,
    "scrolled": true
   },
   "outputs": [
    {
     "data": {
      "text/html": [
       "<div>\n",
       "<table border=\"1\" class=\"dataframe\">\n",
       "  <thead>\n",
       "    <tr style=\"text-align: right;\">\n",
       "      <th></th>\n",
       "      <th>DateStamp</th>\n",
       "      <th>UniqueComplaintId</th>\n",
       "      <th>Close Year</th>\n",
       "      <th>Received Year</th>\n",
       "      <th>Borough of Occurrence</th>\n",
       "      <th>Is Full Investigation</th>\n",
       "      <th>Complaint Has Video Evidence</th>\n",
       "      <th>Complaint Filed Mode</th>\n",
       "      <th>Complaint Filed Place</th>\n",
       "      <th>Complaint Contains Stop &amp; Frisk Allegations</th>\n",
       "      <th>Incident Location</th>\n",
       "      <th>Incident Year</th>\n",
       "      <th>Encounter Outcome</th>\n",
       "      <th>Reason For Initial Contact</th>\n",
       "      <th>Allegation FADO Type</th>\n",
       "      <th>Allegation Description</th>\n",
       "    </tr>\n",
       "  </thead>\n",
       "  <tbody>\n",
       "    <tr>\n",
       "      <th>0</th>\n",
       "      <td>02/07/2017</td>\n",
       "      <td>6</td>\n",
       "      <td>2006</td>\n",
       "      <td>2006</td>\n",
       "      <td>Brooklyn</td>\n",
       "      <td>False</td>\n",
       "      <td>False</td>\n",
       "      <td>Phone</td>\n",
       "      <td>IAB</td>\n",
       "      <td>False</td>\n",
       "      <td>Street/highway</td>\n",
       "      <td>2006</td>\n",
       "      <td>No Arrest or Summons</td>\n",
       "      <td>PD suspected C/V of violation/crime - street</td>\n",
       "      <td>Discourtesy</td>\n",
       "      <td>Action</td>\n",
       "    </tr>\n",
       "    <tr>\n",
       "      <th>1</th>\n",
       "      <td>02/07/2017</td>\n",
       "      <td>11</td>\n",
       "      <td>2006</td>\n",
       "      <td>2006</td>\n",
       "      <td>Bronx</td>\n",
       "      <td>False</td>\n",
       "      <td>False</td>\n",
       "      <td>Phone</td>\n",
       "      <td>IAB</td>\n",
       "      <td>False</td>\n",
       "      <td>Street/highway</td>\n",
       "      <td>2006</td>\n",
       "      <td>Arrest</td>\n",
       "      <td>Other</td>\n",
       "      <td>Force</td>\n",
       "      <td>Physical force</td>\n",
       "    </tr>\n",
       "    <tr>\n",
       "      <th>2</th>\n",
       "      <td>02/07/2017</td>\n",
       "      <td>20</td>\n",
       "      <td>2006</td>\n",
       "      <td>2005</td>\n",
       "      <td>Bronx</td>\n",
       "      <td>False</td>\n",
       "      <td>False</td>\n",
       "      <td>Call Processing System</td>\n",
       "      <td>CCRB</td>\n",
       "      <td>True</td>\n",
       "      <td>Street/highway</td>\n",
       "      <td>2005</td>\n",
       "      <td>No Arrest or Summons</td>\n",
       "      <td>Other</td>\n",
       "      <td>Abuse of Authority</td>\n",
       "      <td>Strip-searched</td>\n",
       "    </tr>\n",
       "    <tr>\n",
       "      <th>3</th>\n",
       "      <td>02/07/2017</td>\n",
       "      <td>20</td>\n",
       "      <td>2006</td>\n",
       "      <td>2005</td>\n",
       "      <td>Bronx</td>\n",
       "      <td>False</td>\n",
       "      <td>False</td>\n",
       "      <td>Call Processing System</td>\n",
       "      <td>CCRB</td>\n",
       "      <td>True</td>\n",
       "      <td>Street/highway</td>\n",
       "      <td>2005</td>\n",
       "      <td>No Arrest or Summons</td>\n",
       "      <td>Other</td>\n",
       "      <td>Abuse of Authority</td>\n",
       "      <td>Seizure of property</td>\n",
       "    </tr>\n",
       "    <tr>\n",
       "      <th>4</th>\n",
       "      <td>02/07/2017</td>\n",
       "      <td>20</td>\n",
       "      <td>2006</td>\n",
       "      <td>2005</td>\n",
       "      <td>Bronx</td>\n",
       "      <td>False</td>\n",
       "      <td>False</td>\n",
       "      <td>Call Processing System</td>\n",
       "      <td>CCRB</td>\n",
       "      <td>True</td>\n",
       "      <td>Street/highway</td>\n",
       "      <td>2005</td>\n",
       "      <td>No Arrest or Summons</td>\n",
       "      <td>Other</td>\n",
       "      <td>Abuse of Authority</td>\n",
       "      <td>Search (of person)</td>\n",
       "    </tr>\n",
       "    <tr>\n",
       "      <th>5</th>\n",
       "      <td>02/07/2017</td>\n",
       "      <td>20</td>\n",
       "      <td>2006</td>\n",
       "      <td>2005</td>\n",
       "      <td>Bronx</td>\n",
       "      <td>False</td>\n",
       "      <td>False</td>\n",
       "      <td>Call Processing System</td>\n",
       "      <td>CCRB</td>\n",
       "      <td>True</td>\n",
       "      <td>Street/highway</td>\n",
       "      <td>2005</td>\n",
       "      <td>No Arrest or Summons</td>\n",
       "      <td>Other</td>\n",
       "      <td>Abuse of Authority</td>\n",
       "      <td>Question and/or stop</td>\n",
       "    </tr>\n",
       "    <tr>\n",
       "      <th>6</th>\n",
       "      <td>02/07/2017</td>\n",
       "      <td>20</td>\n",
       "      <td>2006</td>\n",
       "      <td>2005</td>\n",
       "      <td>Bronx</td>\n",
       "      <td>False</td>\n",
       "      <td>False</td>\n",
       "      <td>Call Processing System</td>\n",
       "      <td>CCRB</td>\n",
       "      <td>True</td>\n",
       "      <td>Street/highway</td>\n",
       "      <td>2005</td>\n",
       "      <td>No Arrest or Summons</td>\n",
       "      <td>Other</td>\n",
       "      <td>Abuse of Authority</td>\n",
       "      <td>Threat of arrest</td>\n",
       "    </tr>\n",
       "    <tr>\n",
       "      <th>7</th>\n",
       "      <td>02/07/2017</td>\n",
       "      <td>26</td>\n",
       "      <td>2006</td>\n",
       "      <td>2006</td>\n",
       "      <td>Brooklyn</td>\n",
       "      <td>False</td>\n",
       "      <td>False</td>\n",
       "      <td>Phone</td>\n",
       "      <td>IAB</td>\n",
       "      <td>False</td>\n",
       "      <td>Apartment/house</td>\n",
       "      <td>2006</td>\n",
       "      <td>No Arrest or Summons</td>\n",
       "      <td>Report-dispute</td>\n",
       "      <td>Abuse of Authority</td>\n",
       "      <td>Threat of arrest</td>\n",
       "    </tr>\n",
       "    <tr>\n",
       "      <th>8</th>\n",
       "      <td>02/07/2017</td>\n",
       "      <td>26</td>\n",
       "      <td>2006</td>\n",
       "      <td>2006</td>\n",
       "      <td>Brooklyn</td>\n",
       "      <td>False</td>\n",
       "      <td>False</td>\n",
       "      <td>Phone</td>\n",
       "      <td>IAB</td>\n",
       "      <td>False</td>\n",
       "      <td>Apartment/house</td>\n",
       "      <td>2006</td>\n",
       "      <td>No Arrest or Summons</td>\n",
       "      <td>Report-dispute</td>\n",
       "      <td>Discourtesy</td>\n",
       "      <td>Word</td>\n",
       "    </tr>\n",
       "    <tr>\n",
       "      <th>9</th>\n",
       "      <td>02/07/2017</td>\n",
       "      <td>26</td>\n",
       "      <td>2006</td>\n",
       "      <td>2006</td>\n",
       "      <td>Brooklyn</td>\n",
       "      <td>False</td>\n",
       "      <td>False</td>\n",
       "      <td>Phone</td>\n",
       "      <td>IAB</td>\n",
       "      <td>False</td>\n",
       "      <td>Apartment/house</td>\n",
       "      <td>2006</td>\n",
       "      <td>No Arrest or Summons</td>\n",
       "      <td>Report-dispute</td>\n",
       "      <td>Discourtesy</td>\n",
       "      <td>Action</td>\n",
       "    </tr>\n",
       "  </tbody>\n",
       "</table>\n",
       "</div>"
      ],
      "text/plain": [
       "    DateStamp  UniqueComplaintId  Close Year  Received Year  \\\n",
       "0  02/07/2017                  6        2006           2006   \n",
       "1  02/07/2017                 11        2006           2006   \n",
       "2  02/07/2017                 20        2006           2005   \n",
       "3  02/07/2017                 20        2006           2005   \n",
       "4  02/07/2017                 20        2006           2005   \n",
       "5  02/07/2017                 20        2006           2005   \n",
       "6  02/07/2017                 20        2006           2005   \n",
       "7  02/07/2017                 26        2006           2006   \n",
       "8  02/07/2017                 26        2006           2006   \n",
       "9  02/07/2017                 26        2006           2006   \n",
       "\n",
       "  Borough of Occurrence Is Full Investigation Complaint Has Video Evidence  \\\n",
       "0              Brooklyn                 False                        False   \n",
       "1                 Bronx                 False                        False   \n",
       "2                 Bronx                 False                        False   \n",
       "3                 Bronx                 False                        False   \n",
       "4                 Bronx                 False                        False   \n",
       "5                 Bronx                 False                        False   \n",
       "6                 Bronx                 False                        False   \n",
       "7              Brooklyn                 False                        False   \n",
       "8              Brooklyn                 False                        False   \n",
       "9              Brooklyn                 False                        False   \n",
       "\n",
       "     Complaint Filed Mode Complaint Filed Place  \\\n",
       "0                   Phone                   IAB   \n",
       "1                   Phone                   IAB   \n",
       "2  Call Processing System                  CCRB   \n",
       "3  Call Processing System                  CCRB   \n",
       "4  Call Processing System                  CCRB   \n",
       "5  Call Processing System                  CCRB   \n",
       "6  Call Processing System                  CCRB   \n",
       "7                   Phone                   IAB   \n",
       "8                   Phone                   IAB   \n",
       "9                   Phone                   IAB   \n",
       "\n",
       "  Complaint Contains Stop & Frisk Allegations Incident Location  \\\n",
       "0                                       False    Street/highway   \n",
       "1                                       False    Street/highway   \n",
       "2                                        True    Street/highway   \n",
       "3                                        True    Street/highway   \n",
       "4                                        True    Street/highway   \n",
       "5                                        True    Street/highway   \n",
       "6                                        True    Street/highway   \n",
       "7                                       False   Apartment/house   \n",
       "8                                       False   Apartment/house   \n",
       "9                                       False   Apartment/house   \n",
       "\n",
       "   Incident Year     Encounter Outcome  \\\n",
       "0           2006  No Arrest or Summons   \n",
       "1           2006                Arrest   \n",
       "2           2005  No Arrest or Summons   \n",
       "3           2005  No Arrest or Summons   \n",
       "4           2005  No Arrest or Summons   \n",
       "5           2005  No Arrest or Summons   \n",
       "6           2005  No Arrest or Summons   \n",
       "7           2006  No Arrest or Summons   \n",
       "8           2006  No Arrest or Summons   \n",
       "9           2006  No Arrest or Summons   \n",
       "\n",
       "                     Reason For Initial Contact Allegation FADO Type  \\\n",
       "0  PD suspected C/V of violation/crime - street          Discourtesy   \n",
       "1                                         Other                Force   \n",
       "2                                         Other   Abuse of Authority   \n",
       "3                                         Other   Abuse of Authority   \n",
       "4                                         Other   Abuse of Authority   \n",
       "5                                         Other   Abuse of Authority   \n",
       "6                                         Other   Abuse of Authority   \n",
       "7                                Report-dispute   Abuse of Authority   \n",
       "8                                Report-dispute          Discourtesy   \n",
       "9                                Report-dispute          Discourtesy   \n",
       "\n",
       "  Allegation Description  \n",
       "0                 Action  \n",
       "1         Physical force  \n",
       "2         Strip-searched  \n",
       "3    Seizure of property  \n",
       "4     Search (of person)  \n",
       "5   Question and/or stop  \n",
       "6       Threat of arrest  \n",
       "7       Threat of arrest  \n",
       "8                   Word  \n",
       "9                 Action  "
      ]
     },
     "execution_count": 2,
     "metadata": {},
     "output_type": "execute_result"
    }
   ],
   "source": [
    "#Data Source: https://data.cityofnewyork.us/Public-Safety/NYPD-Complaint-Data-Historic/qgea-i56i\n",
    "df = pd.read_csv('ccrb_nypd_20170207.csv')\n",
    "df.dropna(subset=['Allegation Description'], inplace = True) #3 data points as null\n",
    "df.head(10)"
   ]
  },
  {
   "cell_type": "code",
   "execution_count": 3,
   "metadata": {
    "collapsed": false
   },
   "outputs": [
    {
     "data": {
      "text/plain": [
       "<matplotlib.text.Text at 0x50b43c8>"
      ]
     },
     "execution_count": 3,
     "metadata": {},
     "output_type": "execute_result"
    },
    {
     "data": {
      "image/png": "[encoded data removed]",
      "text/plain": [
       "<matplotlib.figure.Figure at 0x4eff438>"
      ]
     },
     "metadata": {},
     "output_type": "display_data"
    }
   ],
   "source": [
    "avg = len(df['Allegation Description'])/ len(df['UniqueComplaintId'].unique())\n",
    "fig = plt.figure()\n",
    "ax = fig.add_subplot(111)\n",
    "\n",
    "df['UniqueComplaintId'].value_counts().hist(bins=np.array(range(1, 31))-0.5, ax = ax)\n",
    "ax.plot([avg,avg], [0,25000],'r--',lw=2)\n",
    "ax.set_xlim(0,15)\n",
    "ax.set_title('Average complaints per person: 2.9')"
   ]
  },
  {
   "cell_type": "code",
   "execution_count": 4,
   "metadata": {
    "collapsed": false
   },
   "outputs": [
    {
     "data": {
      "text/plain": [
       "<matplotlib.text.Text at 0x8c56358>"
      ]
     },
     "execution_count": 4,
     "metadata": {},
     "output_type": "execute_result"
    },
    {
     "data": {
      "image/png": "[encoded data removed]",
      "text/plain": [
       "<matplotlib.figure.Figure at 0x5023278>"
      ]
     },
     "metadata": {},
     "output_type": "display_data"
    }
   ],
   "source": [
    "df_saf = df[df['Complaint Contains Stop & Frisk Allegations']]\n",
    "\n",
    "avg = len(df_saf['Allegation Description'])/ len(df_saf['UniqueComplaintId'].unique())\n",
    "fig = plt.figure()\n",
    "ax = fig.add_subplot(111)\n",
    "\n",
    "df_saf['UniqueComplaintId'].value_counts().hist(bins=np.array(range(1, 31))-0.5, ax = ax)\n",
    "ax.plot([avg,avg], [0,4500],'r--',lw=2)\n",
    "ax.set_xlim(0,15)\n",
    "ax.set_title('Average complaints per person: 4.3')"
   ]
  },
  {
   "cell_type": "code",
   "execution_count": 14,
   "metadata": {
    "collapsed": false
   },
   "outputs": [
    {
     "data": {
      "text/plain": [
       "<matplotlib.text.Text at 0xd2db00>"
      ]
     },
     "execution_count": 14,
     "metadata": {},
     "output_type": "execute_result"
    },
    {
     "data": {
      "image/png": "[encoded data removed]",
      "text/plain": [
       "<matplotlib.figure.Figure at 0xcff9e8>"
      ]
     },
     "metadata": {},
     "output_type": "display_data"
    }
   ],
   "source": [
    "fig = plt.figure()\n",
    "ax = fig.add_subplot(111)\n",
    "df_saf.groupby('Incident Year').count()['Close Year'].plot(ax = ax)\n",
    "ax.set_ylabel('Count')\n",
    "ax.set_xlabel('Incident Year')\n",
    "ax.set_title('Reports of Stop and Frisk by Year')"
   ]
  },
  {
   "cell_type": "code",
   "execution_count": 5,
   "metadata": {
    "collapsed": false
   },
   "outputs": [
    {
     "name": "stdout",
     "output_type": "stream",
     "text": [
      "probability of different means: 1.0\n"
     ]
    },
    {
     "data": {
      "image/png": "[encoded data removed]",
      "text/plain": [
       "<matplotlib.figure.Figure at 0x8c410b8>"
      ]
     },
     "metadata": {},
     "output_type": "display_data"
    },
    {
     "name": "stdout",
     "output_type": "stream",
     "text": [
      "Wall time: 2min 37s\n"
     ]
    }
   ],
   "source": [
    "%%time\n",
    "B = 10000\n",
    "\n",
    "n_saf = len(df[df['Complaint Contains Stop & Frisk Allegations']])\n",
    "n_no_saf = len(df[~df['Complaint Contains Stop & Frisk Allegations']])\n",
    "\n",
    "observed = len(df_saf['Allegation Description'])/ len(df_saf['UniqueComplaintId'].unique()) - len(df['Allegation Description'])/ len(df['UniqueComplaintId'].unique())\n",
    "\n",
    "diff_means = np.zeros(B)\n",
    "\n",
    "for i in range(B):\n",
    "    choice = np.random.choice(len(df),n_saf)\n",
    "    mu_saf = n_saf/len(np.unique(np.array(df['UniqueComplaintId'])[choice]))\n",
    "    mu_no_saf = n_no_saf/len(np.unique(np.array(df['UniqueComplaintId'])[-choice]))\n",
    "    diff_means[i] = mu_saf - mu_no_saf\n",
    "\n",
    "print('probability of different means:', 1.0 - np.sum(diff_means > observed )/ len(diff_means))\n",
    "fig = plt.figure()\n",
    "ax = fig.add_subplot(111)\n",
    "ax.hist(diff_means)\n",
    "plt.show()\n",
    "#ax.plot([observed, observed], [0,250])"
   ]
  },
  {
   "cell_type": "code",
   "execution_count": 6,
   "metadata": {
    "collapsed": false
   },
   "outputs": [
    {
     "data": {
      "text/plain": [
       "0    121375\n",
       "1     85340\n",
       "Name: Complaint Contains Stop & Frisk Allegations, dtype: int64"
      ]
     },
     "execution_count": 6,
     "metadata": {},
     "output_type": "execute_result"
    }
   ],
   "source": [
    "y = df['Complaint Contains Stop & Frisk Allegations'].apply(lambda x: int(x))\n",
    "y.value_counts()\n"
   ]
  },
  {
   "cell_type": "code",
   "execution_count": null,
   "metadata": {
    "collapsed": true
   },
   "outputs": [],
   "source": []
  }
 ],
 "metadata": {
  "kernelspec": {
   "display_name": "Python 3",
   "language": "python",
   "name": "python3"
  },
  "language_info": {
   "codemirror_mode": {
    "name": "ipython",
    "version": 3
   },
   "file_extension": ".py",
   "mimetype": "text/x-python",
   "name": "python",
   "nbconvert_exporter": "python",
   "pygments_lexer": "ipython3",
   "version": "3.4.5"
  }
 },
 "nbformat": 4,
 "nbformat_minor": 2
}
