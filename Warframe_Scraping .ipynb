{
 "cells": [
  {
   "cell_type": "code",
   "execution_count": 1,
   "metadata": {
    "collapsed": true
   },
   "outputs": [],
   "source": [
    "from bs4 import BeautifulSoup\n",
    "import numpy as np\n",
    "import pandas as pd\n",
    "from selenium import webdriver\n",
    "import requests\n",
    "import time\n",
    "import re\n",
    "import matplotlib.pyplot as plt\n",
    "from matplotlib import cm\n",
    "%matplotlib inline"
   ]
  },
  {
   "cell_type": "markdown",
   "metadata": {},
   "source": [
    "### Mod Scraping"
   ]
  },
  {
   "cell_type": "code",
   "execution_count": 2,
   "metadata": {
    "collapsed": false
   },
   "outputs": [],
   "source": [
    "chrome_options = webdriver.ChromeOptions()\n",
    "chrome_options.add_argument(\"--incognito\")\n",
    "\n",
    "driver = webdriver.Chrome()\n",
    "driver.get('http://warframe.wikia.com/wiki/Mods_2.0')"
   ]
  },
  {
   "cell_type": "code",
   "execution_count": 3,
   "metadata": {
    "collapsed": false
   },
   "outputs": [
    {
     "ename": "KeyboardInterrupt",
     "evalue": "",
     "output_type": "error",
     "traceback": [
      "\u001b[0;31m---------------------------------------------------------------------------\u001b[0m",
      "\u001b[0;31mKeyboardInterrupt\u001b[0m                         Traceback (most recent call last)",
      "\u001b[0;32m<ipython-input-3-2013caee8f07>\u001b[0m in \u001b[0;36m<module>\u001b[0;34m()\u001b[0m\n\u001b[1;32m     27\u001b[0m \u001b[1;33m\u001b[0m\u001b[0m\n\u001b[1;32m     28\u001b[0m         \u001b[0mall_the_mods\u001b[0m\u001b[1;33m.\u001b[0m\u001b[0mappend\u001b[0m\u001b[1;33m(\u001b[0m\u001b[0md\u001b[0m\u001b[1;33m)\u001b[0m\u001b[1;33m\u001b[0m\u001b[0m\n\u001b[0;32m---> 29\u001b[0;31m         \u001b[0mtime\u001b[0m\u001b[1;33m.\u001b[0m\u001b[0msleep\u001b[0m\u001b[1;33m(\u001b[0m\u001b[1;36m1\u001b[0m\u001b[1;33m)\u001b[0m\u001b[1;33m\u001b[0m\u001b[0m\n\u001b[0m\u001b[1;32m     30\u001b[0m \u001b[1;33m\u001b[0m\u001b[0m\n\u001b[1;32m     31\u001b[0m         \u001b[0mtotal_time\u001b[0m \u001b[1;33m+=\u001b[0m \u001b[0mtime\u001b[0m\u001b[1;33m.\u001b[0m\u001b[0mclock\u001b[0m\u001b[1;33m(\u001b[0m\u001b[1;33m)\u001b[0m \u001b[1;33m-\u001b[0m \u001b[0mstart\u001b[0m\u001b[1;33m\u001b[0m\u001b[0m\n",
      "\u001b[0;31mKeyboardInterrupt\u001b[0m: "
     ]
    }
   ],
   "source": [
    "headers = ['Warframe', 'Rifle', 'Shotgun', 'Pistol', 'Melee', 'Sentinel', 'Kubrow', 'Aura', 'Stance']\n",
    "all_the_mods = []\n",
    "\n",
    "#driver.find_elements_by_xpath('//*[@id=\"mw-content-text\"]/div[30]/div/ul/li[%i]/a' % (i+1))[0].click()\n",
    "\n",
    "for i, main_table in enumerate(BeautifulSoup(driver.page_source, 'html.parser').find_all('tbody')[6:9]):\n",
    "\n",
    "    total_time = 0\n",
    "    total_count = 0\n",
    "    \n",
    "    for row in main_table.find_all('tr'):\n",
    "        start = time.clock()\n",
    "        \n",
    "        row_list = row.find_all('td')\n",
    "        d = {\n",
    "            'name' : row_list[0].text.strip(),\n",
    "            'rarity' : row_list[3].text.strip(),\n",
    "            'category' : row_list[4].text.strip(),\n",
    "            'type' : headers[i]\n",
    "            }\n",
    "        \n",
    "        response = requests.get('http://warframe.wikia.com'+row_list[0].find('a')['href'])\n",
    "        \n",
    "        mod_page = BeautifulSoup(response.text, 'html.parser').find('table', class_='emodtable')\n",
    "        for first,last in zip(mod_page.find_all('tr')[0].find_all('th'), mod_page.find_all('tr')[-1].find_all('td')):\n",
    "            d[first.text.strip().lower()] = last.text.strip()\n",
    "            \n",
    "        all_the_mods.append(d)\n",
    "        time.sleep(1)\n",
    "        \n",
    "        total_time += time.clock() - start\n",
    "        total_count += 1\n",
    "        \n",
    "    try:\n",
    "        print('Now onto: ' + headers[i+1], '!')\n",
    "        print('Average time per row of ' + headers[i], 'was %f.2 seconds' % (total_time / total_count))\n",
    "        print(total_count, 'mods were scraped\\n----------------------------------\\n')\n",
    "    except:\n",
    "        print('Done!')\n",
    "driver.close()"
   ]
  },
  {
   "cell_type": "code",
   "execution_count": null,
   "metadata": {
    "collapsed": false
   },
   "outputs": [],
   "source": [
    "mod_df = pd.DataFrame(all_the_mods).fillna(0)\n",
    "mod_df.sort_values(by='cost')\n",
    "del mod_df['conclave']\n",
    "print(mod_df.columns)\n",
    "['magazine']"
   ]
  },
  {
   "cell_type": "markdown",
   "metadata": {},
   "source": [
    "### Weapon Scraping"
   ]
  },
  {
   "cell_type": "code",
   "execution_count": 4,
   "metadata": {
    "collapsed": false
   },
   "outputs": [],
   "source": [
    "chrome_options = webdriver.ChromeOptions()\n",
    "chrome_options.add_argument(\"--incognito\")\n",
    "\n",
    "driver = webdriver.Chrome()\n",
    "driver.get('http://warframe.wikia.com/wiki/Weapon_Comparison')\n",
    "\n",
    "body_docs = BeautifulSoup(driver.page_source, 'html.parser').find_all('tbody')"
   ]
  },
  {
   "cell_type": "code",
   "execution_count": 5,
   "metadata": {
    "collapsed": false
   },
   "outputs": [
    {
     "name": "stdout",
     "output_type": "stream",
     "text": [
      "     Crit_Chance  Crit_Damage  Damage  Disposition  Fire_Rate  MR  \\\n",
      "0           50.0          2.0     7.5            3      20.00   5   \n",
      "1           22.0          1.6   600.0            3       1.10  10   \n",
      "2            9.0          1.5    57.0            3       4.33   7   \n",
      "3           17.0          1.9   190.0            4       4.33   7   \n",
      "4           25.0          2.0   125.0            5       3.67   0   \n",
      "5           26.0          2.8    16.0            3      16.67   7   \n",
      "6           10.0          1.5   176.0            5       4.17   2   \n",
      "7           15.0          2.0   184.0            5       4.67   2   \n",
      "8            5.0          1.5    25.0            2       8.75   2   \n",
      "9            5.0          2.0    55.0            2      10.00   2   \n",
      "10          10.0          1.5    20.0            3       8.75   0   \n",
      "11          10.0          2.0    35.0            3       9.58   0   \n",
      "12          10.0          2.0    35.0            3       7.50   0   \n",
      "13           5.0          1.5    30.0            4       7.83   0   \n",
      "14           5.0          1.5    39.0            4      13.64   0   \n",
      "15          15.0          2.5    60.0            5       6.25   9   \n",
      "16          35.0          2.0   200.0            2       0.00   0   \n",
      "17          35.0          2.0   360.0            2       0.00   8   \n",
      "18          10.0          2.0   100.0            5       3.00   2   \n",
      "19          20.0          2.0   500.0            4       1.00   0   \n",
      "20           2.5          1.5    22.0            4      11.25   4   \n",
      "21           5.0          2.0    31.0            4      11.30   4   \n",
      "22          35.0          2.0    75.0            2       4.17   0   \n",
      "23           7.5          2.0   900.0            5       0.00   3   \n",
      "24          50.0          2.0   200.0            2       0.00   0   \n",
      "25          30.0          2.5   350.0            3       1.00   7   \n",
      "26           5.0          2.0    22.5            5      10.00   6   \n",
      "27           5.0          2.0    16.6            5      20.00   6   \n",
      "28          10.0          1.5    25.0            4      12.50   3   \n",
      "29          10.0          1.5    27.0            4      13.30   3   \n",
      "..           ...          ...     ...          ...        ...  ..   \n",
      "72          20.0          1.5   175.0            3       2.00   0   \n",
      "73          25.0          2.0   200.0            3       2.00   0   \n",
      "74          10.0          2.0   350.0            5       2.50   4   \n",
      "75          30.0          3.0    10.0            1      15.00   6   \n",
      "76          30.0          3.0    12.0            1      15.00   6   \n",
      "77          15.0          2.0    28.0            4      10.00   8   \n",
      "78           7.5          1.5   300.0            5       2.50   1   \n",
      "79          15.0          2.0   300.0            5       2.50   1   \n",
      "80           2.5          1.5    45.0            4      12.50   7   \n",
      "81           2.5          1.5    45.0            4      12.50  10   \n",
      "82          25.0          2.0    70.0            2       3.98   5   \n",
      "83          30.0          2.0    87.9            2       4.72  12   \n",
      "84          50.0          2.0    12.5            5      10.00   6   \n",
      "85           0.0          2.0    20.0            1       2.67  12   \n",
      "86           5.0          2.0    50.0            2       9.33  12   \n",
      "87          25.0          2.0    23.0            3      11.67  10   \n",
      "88           2.5          1.5    30.0            5       6.67   3   \n",
      "89           5.0          2.0    60.0            5       9.09   4   \n",
      "90           5.0          2.0  1050.0            1       2.00   4   \n",
      "91          10.0          2.0  1560.0            1       2.00  13   \n",
      "92          25.0          2.5    75.0            1       2.00   5   \n",
      "93          15.0          2.0   100.0            4       1.00   4   \n",
      "94          25.0          2.0   525.0            1       3.00  12   \n",
      "95          25.0          2.0   225.1            3       1.50   3   \n",
      "96          25.0          2.0   325.0            3       2.67   3   \n",
      "97          20.0          2.0   225.0            5       2.00   0   \n",
      "98          20.0          2.0   250.0            5       2.00   0   \n",
      "99          15.0          2.5    25.0            3       1.67   7   \n",
      "100         10.0          2.0    30.0            3      10.83   5   \n",
      "101         20.0          2.0   100.0            3       4.17   0   \n",
      "\n",
      "    Magazine_Size              Name Projectile_Type  Reload_Time  \\\n",
      "0             100            Amprex       Discharge          2.7   \n",
      "1               6      Arca Plasmor        Hit-Scan          2.8   \n",
      "2              43           Argonak        Hit-Scan          2.4   \n",
      "3              16           Astilla      Projectile          2.0   \n",
      "4              20            Attica      Projectile          2.8   \n",
      "5              40              Baza        Hit-scan          1.4   \n",
      "6              20              Boar        Hit-Scan          2.7   \n",
      "7              20        Boar Prime        Hit-Scan          2.8   \n",
      "8              60            Boltor      Projectile          2.6   \n",
      "9              60      Boltor Prime      Projectile          2.4   \n",
      "10             45            Braton        Hit-Scan          2.0   \n",
      "11             75      Braton Prime        Hit-Scan          2.2   \n",
      "12             50     Braton Vandal        Hit-Scan          1.8   \n",
      "13             45           Burston        Hit-Scan          2.0   \n",
      "14             45     Burston Prime        Hit-Scan          2.0   \n",
      "15             50            Buzlok      Projectile          3.0   \n",
      "16              1            Cernos         Unknown          0.6   \n",
      "17              1      Cernos Prime         Unknown          1.0   \n",
      "18             90        Convectrix       Discharge          2.0   \n",
      "19              1            Daikyu      Projectile          0.6   \n",
      "20             45              Dera      Projectile          2.4   \n",
      "21             60       Dera Vandal      Projectile          2.4   \n",
      "22             14       Dex Sybaris        Hit-Scan          1.5   \n",
      "23              7          Drakgoon         Unknown          2.3   \n",
      "24              1             Dread      Projectile          0.7   \n",
      "25             10            Ferrox        Hit-Scan          1.8   \n",
      "26            200        Flux Rifle       Discharge          2.0   \n",
      "27            300           Glaxion       Discharge          1.5   \n",
      "28             90            Gorgon        Hit-Scan          4.2   \n",
      "29             90     Gorgon Wraith        Hit-Scan          3.0   \n",
      "..            ...               ...             ...          ...   \n",
      "72              4         Snipetron        Hit-Scan          3.5   \n",
      "73              6  Snipetron Vandal        Hit-Scan          2.0   \n",
      "74             20             Sobek        Hit-Scan          4.0   \n",
      "75            100              Soma        Hit-Scan          3.0   \n",
      "76            200        Soma Prime        Hit-Scan          3.0   \n",
      "77             65         Stradavar        Hit-Scan          2.0   \n",
      "78              6             Strun        Hit-Scan          3.8   \n",
      "79             10      Strun Wraith        Hit-Scan          5.0   \n",
      "80            180             Supra      Projectile          3.0   \n",
      "81            300      Supra Vandal      Projectile          3.0   \n",
      "82             10           Sybaris        Hit-Scan          2.0   \n",
      "83             20     Sybaris Prime        Hit-Scan          2.0   \n",
      "84            100           Synapse       Discharge          1.5   \n",
      "85             15    Synoid Simulor      Projectile          2.0   \n",
      "86             90      Telos Boltor      Projectile          2.4   \n",
      "87            150            Tenora        Hit-Scan          2.5   \n",
      "88             60             Tetra      Projectile          2.0   \n",
      "89             30           Tiberon        Hit-Scan          2.3   \n",
      "90              2            Tigris        Hit-Scan          1.8   \n",
      "91              2      Tigris Prime        Hit-Scan          1.8   \n",
      "92              2            Tonkor      Projectile          2.0   \n",
      "93              5             Torid      Projectile          3.0   \n",
      "94              8        Vaykor Hek        Hit-Scan          2.3   \n",
      "95              1            Vectis        Hit-Scan          0.9   \n",
      "96              2      Vectis Prime        Hit-Scan          0.9   \n",
      "97              6            Vulkar        Hit-Scan          3.0   \n",
      "98              8     Vulkar Wraith        Hit-Scan          3.0   \n",
      "99              3              Zarr        Hit-Scan          2.3   \n",
      "100            90            Zenith        Hit-Scan          1.6   \n",
      "101            20             Zhuge      Projectile          2.5   \n",
      "\n",
      "     Status_Chance      Trigger_Type         DPS  \n",
      "0             20.0              Held   225.00000  \n",
      "1             28.0         Semi-Auto   747.12000  \n",
      "2             27.0    Auto/Semi-Auto   257.91645  \n",
      "3             33.0              Auto   948.57310  \n",
      "4             10.0              Auto   573.43750  \n",
      "5             10.0              Auto   391.54496  \n",
      "6             20.0              Auto   770.61600  \n",
      "7             30.0              Auto   988.17200  \n",
      "8             10.0              Auto   224.21875  \n",
      "9             10.0              Auto   577.50000  \n",
      "10             5.0              Auto   183.75000  \n",
      "11            20.0              Auto   368.83000  \n",
      "12            10.0              Auto   288.75000  \n",
      "13            10.0             Burst   240.77250  \n",
      "14            15.0             Burst   545.25900  \n",
      "15            10.0              Auto   459.37500  \n",
      "16            10.0     Charge (1.0s)     0.00000  \n",
      "17            10.0     Charge (1.0s)     0.00000  \n",
      "18            25.0              Held   330.00000  \n",
      "19            50.0    Charge (1.75s)   600.00000  \n",
      "20            10.0              Auto   250.59375  \n",
      "21            15.0              Auto   367.81500  \n",
      "22            10.0             Burst   422.21250  \n",
      "23            10.0     Charge (1.0s)     0.00000  \n",
      "24            20.0     Charge (1.0s)     0.00000  \n",
      "25            10.0     Charge (0.5s)   507.50000  \n",
      "26            25.0              Held   236.25000  \n",
      "27            35.0              Held   348.60000  \n",
      "28             5.0        Auto-Spool   328.12500  \n",
      "29            15.0        Auto-Spool   377.05500  \n",
      "..             ...               ...         ...  \n",
      "72            10.0         Semi-Auto   385.00000  \n",
      "73            15.0         Semi-Auto   500.00000  \n",
      "74            15.0              Auto   962.50000  \n",
      "75             7.0        Auto-Spool   240.00000  \n",
      "76            10.0        Auto-Spool   288.00000  \n",
      "77             5.0              Auto   322.00000  \n",
      "78            20.0         Semi-Auto   778.12500  \n",
      "79            40.0         Semi-Auto   862.50000  \n",
      "80             5.0        Auto-Spool   569.53125  \n",
      "81             5.0        Auto-Spool   569.53125  \n",
      "82            10.0             Burst   348.25000  \n",
      "83            25.0             Burst   539.35440  \n",
      "84            10.0              Held   187.50000  \n",
      "85             0.0         Semi-Auto    53.40000  \n",
      "86             7.5              Auto   489.82500  \n",
      "87            15.0              Auto   335.51250  \n",
      "88            10.0              Auto   202.60125  \n",
      "89             2.5             Burst   572.67000  \n",
      "90            25.0       Duplex-Auto  2205.00000  \n",
      "91            30.0       Duplex-Auto  3432.00000  \n",
      "92            10.0         Semi-Auto   206.25000  \n",
      "93            20.0         Semi-Auto   115.00000  \n",
      "94            25.0         Semi-Auto  1968.75000  \n",
      "95            30.0         Semi-Auto   422.06250  \n",
      "96            30.0         Semi-Auto  1084.68750  \n",
      "97            25.0         Semi-Auto   540.00000  \n",
      "98            25.0         Semi-Auto   600.00000  \n",
      "99            20.0         Semi-Auto    51.14375  \n",
      "100           30.0  Auto / Semi-Auto   357.39000  \n",
      "101           35.0              Auto   500.40000  \n",
      "\n",
      "[102 rows x 13 columns]\n"
     ]
    }
   ],
   "source": [
    "column_names = ['Name', 'Trigger_Type', 'Damage', \n",
    "                'Crit_Chance', 'Crit_Damage', 'Status_Chance', \n",
    "                'Projectile_Type', 'Fire_Rate', 'Magazine_Size', \n",
    "                'Reload_Time', 'MR', 'Disposition']\n",
    "to_df = []\n",
    "for row in body_docs[1].find_all('tr'):\n",
    "    single_row = {}\n",
    "    for i, tab_value in enumerate([a.text for a in row.find_all('td')]):\n",
    "        if i == 2:\n",
    "            single_row[column_names[i]] = float(re.search(r'(\\d+\\.?\\d?)', tab_value[-10:]).group(1))\n",
    "            continue\n",
    "        if i == 11:\n",
    "            single_row[column_names[i]] = int(re.search(r'Disposition(\\d)\\.png', tab_value).group(1))\n",
    "            continue\n",
    "        single_row[column_names[i]] = tab_value\n",
    "    to_df.append(single_row)\n",
    "df = pd.DataFrame(to_df)"
   ]
  },
  {
   "cell_type": "markdown",
   "metadata": {},
   "source": [
    "### DF Cleaning\n",
    "The following, simplistic, damage calculation was used to quickly analyze disposition.  A more robust damage metric is necessary for a more realistic analysis.\n",
    "\n",
    "$$DPS = \\text{Fire_Rate}\\left(\\frac{\\text{Crit_Chance}}{100} * \\text{Crit_Damage} * \\text{Base_Damage} + \\frac{\\text{100 - Crit_Chance}}{100} * \\text{Base_Damage}\\right)$$"
   ]
  },
  {
   "cell_type": "code",
   "execution_count": null,
   "metadata": {
    "collapsed": true
   },
   "outputs": [],
   "source": [
    "df['Crit_Chance'] = df['Crit_Chance'].apply(lambda x: float(x[:-1]))\n",
    "df['Crit_Damage'] = df['Crit_Damage'].apply(lambda x: float(x[:-1]))\n",
    "df['Status_Chance'] = df['Status_Chance'].apply(lambda x: float(x[:-1]))\n",
    "df['Reload_Time'] = df['Reload_Time'].apply(lambda x: float(x[:-2]))\n",
    "df['Damage'] = df['Damage'].apply(lambda x: float(x))\n",
    "df['Fire_Rate'] = df['Fire_Rate'].apply(lambda x: float(x))\n",
    "\n",
    "df['DPS'] = df.apply(lambda x: (x['Crit_Chance']/100.0 * x['Crit_Damage'] * x['Damage'] \n",
    "                                + (100.0 - x['Crit_Chance'])/100.0 * x['Damage']) * x['Fire_Rate'], axis=1)   \n",
    "print(df)"
   ]
  },
  {
   "cell_type": "markdown",
   "metadata": {},
   "source": [
    "### Primary Weapon Visualization"
   ]
  },
  {
   "cell_type": "code",
   "execution_count": 6,
   "metadata": {
    "collapsed": false
   },
   "outputs": [
    {
     "data": {
      "image/png": "[encoded data removed]",
      "text/plain": [
       "<matplotlib.figure.Figure at 0xcc6eb00>"
      ]
     },
     "metadata": {},
     "output_type": "display_data"
    }
   ],
   "source": [
    "df = df[df.DPS > 0.0]\n",
    "\n",
    "fig, ax = plt.subplots(1,1,figsize=(10,7))\n",
    "ax.boxplot([df.loc[df['Disposition'] == i, 'DPS'] for i in range(1,6)])\n",
    "x_jitter = np.array(df['Disposition']) + np.random.normal(loc = 0.0, scale = 0.1, size = len(df['Disposition']))\n",
    "ax.scatter(x_jitter, df['DPS'], alpha = 0.5)\n",
    "ax.set_title('Average Primary DPS by Riven Disposition')\n",
    "ax.set_xlabel('Predicted Baseline DPS')\n",
    "ax.set_ylabel('Riven Disposition')\n",
    "plt.show()"
   ]
  },
  {
   "cell_type": "code",
   "execution_count": 7,
   "metadata": {
    "collapsed": false
   },
   "outputs": [
    {
     "data": {
      "text/plain": [
       "<matplotlib.text.Text at 0xcd57240>"
      ]
     },
     "execution_count": 7,
     "metadata": {},
     "output_type": "execute_result"
    },
    {
     "data": {
      "image/png": "[encoded data removed]",
      "text/plain": [
       "<matplotlib.figure.Figure at 0xcc2aba8>"
      ]
     },
     "metadata": {},
     "output_type": "display_data"
    }
   ],
   "source": [
    "fig, ax = plt.subplots(1,1,figsize=(10,7))\n",
    "n = len(df)\n",
    "x_sc = df['Status_Chance'] + np.random.normal(loc = 0.0, scale = 2.0, size = n)\n",
    "y_crit = np.multiply(df['Crit_Chance'], df['Crit_Damage']) + np.random.normal(loc = 0.0, scale = 2.0, size = n)\n",
    "\n",
    "colors = cm.get_cmap('plasma', 8)\n",
    "\n",
    "for i in range(1,6):\n",
    "    ax.scatter(x_sc[df['Disposition']==i], y_crit[df['Disposition']==i], c = colors(i), label = 'Disposition ' + str(i))\n",
    "ax.legend()\n",
    "ax.set_facecolor((0.9, 0.9, 0.9))\n",
    "ax.set_ylabel('Crit Chance x Crit Damage')\n",
    "ax.set_xlabel('Status Chance')\n",
    "ax.set_title('Status vs Crit wrt Riven Disposition')"
   ]
  },
  {
   "cell_type": "code",
   "execution_count": 15,
   "metadata": {
    "collapsed": false
   },
   "outputs": [
    {
     "data": {
      "text/plain": [
       "46       Lenz\n",
       "84    Synapse\n",
       "Name: Name, dtype: object"
      ]
     },
     "execution_count": 15,
     "metadata": {},
     "output_type": "execute_result"
    }
   ],
   "source": [
    "\n",
    "df.loc[(y_crit > 95)&(x_sc < 20), 'Name']"
   ]
  }
 ],
 "metadata": {
  "kernelspec": {
   "display_name": "Python 3",
   "language": "python",
   "name": "python3"
  },
  "language_info": {
   "codemirror_mode": {
    "name": "ipython",
    "version": 3
   },
   "file_extension": ".py",
   "mimetype": "text/x-python",
   "name": "python",
   "nbconvert_exporter": "python",
   "pygments_lexer": "ipython3",
   "version": "3.4.5"
  }
 },
 "nbformat": 4,
 "nbformat_minor": 2
}
